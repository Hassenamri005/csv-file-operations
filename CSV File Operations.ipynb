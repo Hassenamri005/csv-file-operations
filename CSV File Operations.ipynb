{
 "cells": [
  {
   "cell_type": "code",
   "execution_count": 2,
   "id": "c37ccd67",
   "metadata": {},
   "outputs": [],
   "source": [
    "import csv  \n",
    "import pandas as pd"
   ]
  },
  {
   "cell_type": "markdown",
   "id": "ca86181f",
   "metadata": {},
   "source": [
    "# CSV File Operations : Add Row - Add Column - Show Content File"
   ]
  },
  {
   "cell_type": "markdown",
   "id": "b2aaf384",
   "metadata": {},
   "source": [
    "## 1. Open a CSV File - Create it if it doesn't exist"
   ]
  },
  {
   "cell_type": "code",
   "execution_count": 3,
   "id": "c7b7ccab",
   "metadata": {},
   "outputs": [],
   "source": [
    "f = open('test.csv', 'a')"
   ]
  },
  {
   "cell_type": "markdown",
   "id": "bd00d053",
   "metadata": {},
   "source": [
    "## 2. ADD a Row"
   ]
  },
  {
   "cell_type": "code",
   "execution_count": 4,
   "id": "209241d2",
   "metadata": {},
   "outputs": [],
   "source": [
    "fields=['Name','Age']\n",
    "\n",
    "with open(r'test.csv', 'a') as f:\n",
    "    writer = csv.writer(f)\n",
    "    writer.writerow(fields)"
   ]
  },
  {
   "cell_type": "code",
   "execution_count": 5,
   "id": "0e063ae1",
   "metadata": {},
   "outputs": [],
   "source": [
    "# Adding another row to test\n",
    "fields=['Hassen Amri','23']\n",
    "with open(r'test.csv', 'a') as f:\n",
    "    writer = csv.writer(f)\n",
    "    writer.writerow(fields)"
   ]
  },
  {
   "cell_type": "markdown",
   "id": "a31dab01",
   "metadata": {},
   "source": [
    "## 3. Add a new Column"
   ]
  },
  {
   "cell_type": "code",
   "execution_count": 6,
   "id": "38142e4e",
   "metadata": {},
   "outputs": [],
   "source": [
    "df = pd.read_csv(\"test.csv\")\n",
    "df[\"moy\"] = 0\n",
    "df.to_csv(\"test.csv\", index=False)"
   ]
  },
  {
   "cell_type": "markdown",
   "id": "ad698a68",
   "metadata": {},
   "source": [
    "## 4. Show content file"
   ]
  },
  {
   "cell_type": "code",
   "execution_count": 7,
   "id": "1c4b45b5",
   "metadata": {},
   "outputs": [
    {
     "data": {
      "text/html": [
       "<div>\n",
       "<style scoped>\n",
       "    .dataframe tbody tr th:only-of-type {\n",
       "        vertical-align: middle;\n",
       "    }\n",
       "\n",
       "    .dataframe tbody tr th {\n",
       "        vertical-align: top;\n",
       "    }\n",
       "\n",
       "    .dataframe thead th {\n",
       "        text-align: right;\n",
       "    }\n",
       "</style>\n",
       "<table border=\"1\" class=\"dataframe\">\n",
       "  <thead>\n",
       "    <tr style=\"text-align: right;\">\n",
       "      <th></th>\n",
       "      <th>Name</th>\n",
       "      <th>Age</th>\n",
       "      <th>moy</th>\n",
       "    </tr>\n",
       "  </thead>\n",
       "  <tbody>\n",
       "    <tr>\n",
       "      <th>0</th>\n",
       "      <td>Hassen Amri</td>\n",
       "      <td>23</td>\n",
       "      <td>0</td>\n",
       "    </tr>\n",
       "  </tbody>\n",
       "</table>\n",
       "</div>"
      ],
      "text/plain": [
       "          Name  Age  moy\n",
       "0  Hassen Amri   23    0"
      ]
     },
     "execution_count": 7,
     "metadata": {},
     "output_type": "execute_result"
    }
   ],
   "source": [
    "data = pd.read_csv(\"test.csv\")\n",
    "df = pd.DataFrame(data)\n",
    "df.head()"
   ]
  },
  {
   "cell_type": "markdown",
   "id": "53a3574d",
   "metadata": {},
   "source": [
    "### 5. Copy from file to another"
   ]
  },
  {
   "cell_type": "code",
   "execution_count": 8,
   "id": "fe9f3737",
   "metadata": {},
   "outputs": [],
   "source": [
    "# read\n",
    "data = []\n",
    "with open('test.csv', 'r') as f:\n",
    "    f_csv = csv.reader(f)\n",
    "    # header = next(f_csv)\n",
    "    for row in f_csv:\n",
    "        data.append(row)\n",
    "\n",
    "\n",
    "# write\n",
    "with open('test2.csv', 'w+') as f:\n",
    "    writer = csv.writer(f)\n",
    "    for i in range(len(data)):\n",
    "        writer.writerow(data[i])"
   ]
  },
  {
   "cell_type": "code",
   "execution_count": 9,
   "id": "8d6b4e90",
   "metadata": {},
   "outputs": [
    {
     "data": {
      "text/html": [
       "<div>\n",
       "<style scoped>\n",
       "    .dataframe tbody tr th:only-of-type {\n",
       "        vertical-align: middle;\n",
       "    }\n",
       "\n",
       "    .dataframe tbody tr th {\n",
       "        vertical-align: top;\n",
       "    }\n",
       "\n",
       "    .dataframe thead th {\n",
       "        text-align: right;\n",
       "    }\n",
       "</style>\n",
       "<table border=\"1\" class=\"dataframe\">\n",
       "  <thead>\n",
       "    <tr style=\"text-align: right;\">\n",
       "      <th></th>\n",
       "      <th>Name</th>\n",
       "      <th>Age</th>\n",
       "      <th>moy</th>\n",
       "    </tr>\n",
       "  </thead>\n",
       "  <tbody>\n",
       "    <tr>\n",
       "      <th>0</th>\n",
       "      <td>Hassen Amri</td>\n",
       "      <td>23</td>\n",
       "      <td>0</td>\n",
       "    </tr>\n",
       "  </tbody>\n",
       "</table>\n",
       "</div>"
      ],
      "text/plain": [
       "          Name  Age  moy\n",
       "0  Hassen Amri   23    0"
      ]
     },
     "execution_count": 9,
     "metadata": {},
     "output_type": "execute_result"
    }
   ],
   "source": [
    "#Show content file\n",
    "data = pd.read_csv(\"test2.csv\")\n",
    "df = pd.DataFrame(data)\n",
    "df.head()"
   ]
  },
  {
   "cell_type": "markdown",
   "id": "62b08ed3",
   "metadata": {},
   "source": [
    "# Removing missing values"
   ]
  },
  {
   "cell_type": "markdown",
   "id": "8fab46a9",
   "metadata": {},
   "source": [
    "### 1. Adding another rows to test removing missing values or NaN values ..."
   ]
  },
  {
   "cell_type": "code",
   "execution_count": 24,
   "id": "2722e31b",
   "metadata": {},
   "outputs": [],
   "source": [
    "import numpy as np\n",
    "with open(r'test.csv', 'a') as f:\n",
    "    writer = csv.writer(f)\n",
    "    for i in range(5):\n",
    "        fields=[i, 0, 0]\n",
    "        writer.writerow(fields)"
   ]
  },
  {
   "cell_type": "code",
   "execution_count": 15,
   "id": "6ebb7b16",
   "metadata": {},
   "outputs": [
    {
     "data": {
      "text/html": [
       "<div>\n",
       "<style scoped>\n",
       "    .dataframe tbody tr th:only-of-type {\n",
       "        vertical-align: middle;\n",
       "    }\n",
       "\n",
       "    .dataframe tbody tr th {\n",
       "        vertical-align: top;\n",
       "    }\n",
       "\n",
       "    .dataframe thead th {\n",
       "        text-align: right;\n",
       "    }\n",
       "</style>\n",
       "<table border=\"1\" class=\"dataframe\">\n",
       "  <thead>\n",
       "    <tr style=\"text-align: right;\">\n",
       "      <th></th>\n",
       "      <th>Name</th>\n",
       "      <th>Age</th>\n",
       "      <th>moy</th>\n",
       "    </tr>\n",
       "  </thead>\n",
       "  <tbody>\n",
       "    <tr>\n",
       "      <th>0</th>\n",
       "      <td>Hassen Amri</td>\n",
       "      <td>23.0</td>\n",
       "      <td>0.0</td>\n",
       "    </tr>\n",
       "    <tr>\n",
       "      <th>1</th>\n",
       "      <td>1</td>\n",
       "      <td>1.0</td>\n",
       "      <td>1.0</td>\n",
       "    </tr>\n",
       "    <tr>\n",
       "      <th>2</th>\n",
       "      <td>1</td>\n",
       "      <td>1.0</td>\n",
       "      <td>1.0</td>\n",
       "    </tr>\n",
       "    <tr>\n",
       "      <th>3</th>\n",
       "      <td>1</td>\n",
       "      <td>1.0</td>\n",
       "      <td>1.0</td>\n",
       "    </tr>\n",
       "    <tr>\n",
       "      <th>4</th>\n",
       "      <td>1</td>\n",
       "      <td>1.0</td>\n",
       "      <td>1.0</td>\n",
       "    </tr>\n",
       "    <tr>\n",
       "      <th>5</th>\n",
       "      <td>1</td>\n",
       "      <td>1.0</td>\n",
       "      <td>1.0</td>\n",
       "    </tr>\n",
       "    <tr>\n",
       "      <th>6</th>\n",
       "      <td>0</td>\n",
       "      <td>NaN</td>\n",
       "      <td>NaN</td>\n",
       "    </tr>\n",
       "    <tr>\n",
       "      <th>7</th>\n",
       "      <td>1</td>\n",
       "      <td>NaN</td>\n",
       "      <td>NaN</td>\n",
       "    </tr>\n",
       "    <tr>\n",
       "      <th>8</th>\n",
       "      <td>2</td>\n",
       "      <td>NaN</td>\n",
       "      <td>NaN</td>\n",
       "    </tr>\n",
       "    <tr>\n",
       "      <th>9</th>\n",
       "      <td>3</td>\n",
       "      <td>NaN</td>\n",
       "      <td>NaN</td>\n",
       "    </tr>\n",
       "    <tr>\n",
       "      <th>10</th>\n",
       "      <td>4</td>\n",
       "      <td>NaN</td>\n",
       "      <td>NaN</td>\n",
       "    </tr>\n",
       "  </tbody>\n",
       "</table>\n",
       "</div>"
      ],
      "text/plain": [
       "           Name   Age  moy\n",
       "0   Hassen Amri  23.0  0.0\n",
       "1             1   1.0  1.0\n",
       "2             1   1.0  1.0\n",
       "3             1   1.0  1.0\n",
       "4             1   1.0  1.0\n",
       "5             1   1.0  1.0\n",
       "6             0   NaN  NaN\n",
       "7             1   NaN  NaN\n",
       "8             2   NaN  NaN\n",
       "9             3   NaN  NaN\n",
       "10            4   NaN  NaN"
      ]
     },
     "execution_count": 15,
     "metadata": {},
     "output_type": "execute_result"
    }
   ],
   "source": [
    "datacl = pd.read_csv(\"test.csv\")\n",
    "\n",
    "df = pd.DataFrame(datacl)\n",
    "df"
   ]
  },
  {
   "cell_type": "markdown",
   "id": "10e12fc3",
   "metadata": {},
   "source": [
    "### 2. Dropping the rows having missing values"
   ]
  },
  {
   "cell_type": "code",
   "execution_count": 16,
   "id": "346586d7",
   "metadata": {},
   "outputs": [
    {
     "name": "stdout",
     "output_type": "stream",
     "text": [
      "DataFrame after dropping the rows having missing values:\n",
      "          Name   Age  moy\n",
      "0  Hassen Amri  23.0  0.0\n",
      "1            1   1.0  1.0\n",
      "2            1   1.0  1.0\n",
      "3            1   1.0  1.0\n",
      "4            1   1.0  1.0\n",
      "5            1   1.0  1.0\n"
     ]
    }
   ],
   "source": [
    "print('DataFrame after dropping the rows having missing values:')\n",
    "df = df.dropna()\n",
    "print(df.dropna())"
   ]
  },
  {
   "cell_type": "markdown",
   "id": "c2e71534",
   "metadata": {},
   "source": [
    "### 3. Deleting the oldest file "
   ]
  },
  {
   "cell_type": "code",
   "execution_count": 17,
   "id": "70bf47b6",
   "metadata": {},
   "outputs": [
    {
     "name": "stdout",
     "output_type": "stream",
     "text": [
      "file deleted\n"
     ]
    }
   ],
   "source": [
    "#delete the recent content\n",
    "import os\n",
    "file = \"test.csv\"\n",
    "if(os.path.exists(file) and os.path.isfile(file)):\n",
    "    os.remove(file)\n",
    "    print(\"file deleted\")\n",
    "else:\n",
    "    print(\"file not found\")"
   ]
  },
  {
   "cell_type": "markdown",
   "id": "6fb787c3",
   "metadata": {},
   "source": [
    "### 4. Exporting the new cleaned Data in a new CSV File"
   ]
  },
  {
   "cell_type": "code",
   "execution_count": 18,
   "id": "48eb0084",
   "metadata": {},
   "outputs": [],
   "source": [
    "#add new content without missing values\n",
    "df.to_csv(\"test.csv\", index=False)"
   ]
  },
  {
   "cell_type": "code",
   "execution_count": 19,
   "id": "c672f676",
   "metadata": {
    "scrolled": false
   },
   "outputs": [
    {
     "data": {
      "text/html": [
       "<div>\n",
       "<style scoped>\n",
       "    .dataframe tbody tr th:only-of-type {\n",
       "        vertical-align: middle;\n",
       "    }\n",
       "\n",
       "    .dataframe tbody tr th {\n",
       "        vertical-align: top;\n",
       "    }\n",
       "\n",
       "    .dataframe thead th {\n",
       "        text-align: right;\n",
       "    }\n",
       "</style>\n",
       "<table border=\"1\" class=\"dataframe\">\n",
       "  <thead>\n",
       "    <tr style=\"text-align: right;\">\n",
       "      <th></th>\n",
       "      <th>Name</th>\n",
       "      <th>Age</th>\n",
       "      <th>moy</th>\n",
       "    </tr>\n",
       "  </thead>\n",
       "  <tbody>\n",
       "    <tr>\n",
       "      <th>0</th>\n",
       "      <td>Hassen Amri</td>\n",
       "      <td>23.0</td>\n",
       "      <td>0.0</td>\n",
       "    </tr>\n",
       "    <tr>\n",
       "      <th>1</th>\n",
       "      <td>1</td>\n",
       "      <td>1.0</td>\n",
       "      <td>1.0</td>\n",
       "    </tr>\n",
       "    <tr>\n",
       "      <th>2</th>\n",
       "      <td>1</td>\n",
       "      <td>1.0</td>\n",
       "      <td>1.0</td>\n",
       "    </tr>\n",
       "    <tr>\n",
       "      <th>3</th>\n",
       "      <td>1</td>\n",
       "      <td>1.0</td>\n",
       "      <td>1.0</td>\n",
       "    </tr>\n",
       "    <tr>\n",
       "      <th>4</th>\n",
       "      <td>1</td>\n",
       "      <td>1.0</td>\n",
       "      <td>1.0</td>\n",
       "    </tr>\n",
       "    <tr>\n",
       "      <th>5</th>\n",
       "      <td>1</td>\n",
       "      <td>1.0</td>\n",
       "      <td>1.0</td>\n",
       "    </tr>\n",
       "  </tbody>\n",
       "</table>\n",
       "</div>"
      ],
      "text/plain": [
       "          Name   Age  moy\n",
       "0  Hassen Amri  23.0  0.0\n",
       "1            1   1.0  1.0\n",
       "2            1   1.0  1.0\n",
       "3            1   1.0  1.0\n",
       "4            1   1.0  1.0\n",
       "5            1   1.0  1.0"
      ]
     },
     "execution_count": 19,
     "metadata": {},
     "output_type": "execute_result"
    }
   ],
   "source": [
    "#Show content file\n",
    "data = pd.read_csv(\"test.csv\")\n",
    "df = pd.DataFrame(data)\n",
    "df"
   ]
  },
  {
   "cell_type": "markdown",
   "id": "92fe235c",
   "metadata": {},
   "source": [
    "### 5. Delete All rows that contains 0 values"
   ]
  },
  {
   "cell_type": "code",
   "execution_count": 25,
   "id": "15ffa0b2",
   "metadata": {},
   "outputs": [
    {
     "data": {
      "text/html": [
       "<div>\n",
       "<style scoped>\n",
       "    .dataframe tbody tr th:only-of-type {\n",
       "        vertical-align: middle;\n",
       "    }\n",
       "\n",
       "    .dataframe tbody tr th {\n",
       "        vertical-align: top;\n",
       "    }\n",
       "\n",
       "    .dataframe thead th {\n",
       "        text-align: right;\n",
       "    }\n",
       "</style>\n",
       "<table border=\"1\" class=\"dataframe\">\n",
       "  <thead>\n",
       "    <tr style=\"text-align: right;\">\n",
       "      <th></th>\n",
       "      <th>Name</th>\n",
       "      <th>Age</th>\n",
       "      <th>moy</th>\n",
       "    </tr>\n",
       "  </thead>\n",
       "  <tbody>\n",
       "    <tr>\n",
       "      <th>0</th>\n",
       "      <td>Hassen Amri</td>\n",
       "      <td>23.0</td>\n",
       "      <td>0.0</td>\n",
       "    </tr>\n",
       "    <tr>\n",
       "      <th>1</th>\n",
       "      <td>1</td>\n",
       "      <td>1.0</td>\n",
       "      <td>1.0</td>\n",
       "    </tr>\n",
       "    <tr>\n",
       "      <th>2</th>\n",
       "      <td>1</td>\n",
       "      <td>1.0</td>\n",
       "      <td>1.0</td>\n",
       "    </tr>\n",
       "    <tr>\n",
       "      <th>3</th>\n",
       "      <td>1</td>\n",
       "      <td>1.0</td>\n",
       "      <td>1.0</td>\n",
       "    </tr>\n",
       "    <tr>\n",
       "      <th>4</th>\n",
       "      <td>1</td>\n",
       "      <td>1.0</td>\n",
       "      <td>1.0</td>\n",
       "    </tr>\n",
       "    <tr>\n",
       "      <th>5</th>\n",
       "      <td>1</td>\n",
       "      <td>1.0</td>\n",
       "      <td>1.0</td>\n",
       "    </tr>\n",
       "    <tr>\n",
       "      <th>6</th>\n",
       "      <td>0</td>\n",
       "      <td>&lt;built-in function zeros&gt;</td>\n",
       "      <td>&lt;built-in function zeros&gt;</td>\n",
       "    </tr>\n",
       "    <tr>\n",
       "      <th>7</th>\n",
       "      <td>1</td>\n",
       "      <td>&lt;built-in function zeros&gt;</td>\n",
       "      <td>&lt;built-in function zeros&gt;</td>\n",
       "    </tr>\n",
       "    <tr>\n",
       "      <th>8</th>\n",
       "      <td>2</td>\n",
       "      <td>&lt;built-in function zeros&gt;</td>\n",
       "      <td>&lt;built-in function zeros&gt;</td>\n",
       "    </tr>\n",
       "    <tr>\n",
       "      <th>9</th>\n",
       "      <td>3</td>\n",
       "      <td>&lt;built-in function zeros&gt;</td>\n",
       "      <td>&lt;built-in function zeros&gt;</td>\n",
       "    </tr>\n",
       "    <tr>\n",
       "      <th>10</th>\n",
       "      <td>4</td>\n",
       "      <td>&lt;built-in function zeros&gt;</td>\n",
       "      <td>&lt;built-in function zeros&gt;</td>\n",
       "    </tr>\n",
       "    <tr>\n",
       "      <th>11</th>\n",
       "      <td>0</td>\n",
       "      <td>0</td>\n",
       "      <td>0</td>\n",
       "    </tr>\n",
       "    <tr>\n",
       "      <th>12</th>\n",
       "      <td>1</td>\n",
       "      <td>0</td>\n",
       "      <td>0</td>\n",
       "    </tr>\n",
       "    <tr>\n",
       "      <th>13</th>\n",
       "      <td>2</td>\n",
       "      <td>0</td>\n",
       "      <td>0</td>\n",
       "    </tr>\n",
       "    <tr>\n",
       "      <th>14</th>\n",
       "      <td>3</td>\n",
       "      <td>0</td>\n",
       "      <td>0</td>\n",
       "    </tr>\n",
       "    <tr>\n",
       "      <th>15</th>\n",
       "      <td>4</td>\n",
       "      <td>0</td>\n",
       "      <td>0</td>\n",
       "    </tr>\n",
       "  </tbody>\n",
       "</table>\n",
       "</div>"
      ],
      "text/plain": [
       "           Name                        Age                        moy\n",
       "0   Hassen Amri                       23.0                        0.0\n",
       "1             1                        1.0                        1.0\n",
       "2             1                        1.0                        1.0\n",
       "3             1                        1.0                        1.0\n",
       "4             1                        1.0                        1.0\n",
       "5             1                        1.0                        1.0\n",
       "6             0  <built-in function zeros>  <built-in function zeros>\n",
       "7             1  <built-in function zeros>  <built-in function zeros>\n",
       "8             2  <built-in function zeros>  <built-in function zeros>\n",
       "9             3  <built-in function zeros>  <built-in function zeros>\n",
       "10            4  <built-in function zeros>  <built-in function zeros>\n",
       "11            0                          0                          0\n",
       "12            1                          0                          0\n",
       "13            2                          0                          0\n",
       "14            3                          0                          0\n",
       "15            4                          0                          0"
      ]
     },
     "execution_count": 25,
     "metadata": {},
     "output_type": "execute_result"
    }
   ],
   "source": [
    "#Show content file\n",
    "data = pd.read_csv(\"test.csv\")\n",
    "df = pd.DataFrame(data)\n",
    "df"
   ]
  },
  {
   "cell_type": "code",
   "execution_count": 47,
   "id": "4ce5a68b",
   "metadata": {},
   "outputs": [
    {
     "data": {
      "text/html": [
       "<div>\n",
       "<style scoped>\n",
       "    .dataframe tbody tr th:only-of-type {\n",
       "        vertical-align: middle;\n",
       "    }\n",
       "\n",
       "    .dataframe tbody tr th {\n",
       "        vertical-align: top;\n",
       "    }\n",
       "\n",
       "    .dataframe thead th {\n",
       "        text-align: right;\n",
       "    }\n",
       "</style>\n",
       "<table border=\"1\" class=\"dataframe\">\n",
       "  <thead>\n",
       "    <tr style=\"text-align: right;\">\n",
       "      <th></th>\n",
       "      <th>Name</th>\n",
       "      <th>Age</th>\n",
       "      <th>moy</th>\n",
       "    </tr>\n",
       "  </thead>\n",
       "  <tbody>\n",
       "    <tr>\n",
       "      <th>0</th>\n",
       "      <td>Hassen Amri</td>\n",
       "      <td>23.0</td>\n",
       "      <td>0.0</td>\n",
       "    </tr>\n",
       "    <tr>\n",
       "      <th>1</th>\n",
       "      <td>1</td>\n",
       "      <td>1.0</td>\n",
       "      <td>1.0</td>\n",
       "    </tr>\n",
       "    <tr>\n",
       "      <th>2</th>\n",
       "      <td>1</td>\n",
       "      <td>1.0</td>\n",
       "      <td>1.0</td>\n",
       "    </tr>\n",
       "    <tr>\n",
       "      <th>3</th>\n",
       "      <td>1</td>\n",
       "      <td>1.0</td>\n",
       "      <td>1.0</td>\n",
       "    </tr>\n",
       "    <tr>\n",
       "      <th>4</th>\n",
       "      <td>1</td>\n",
       "      <td>1.0</td>\n",
       "      <td>1.0</td>\n",
       "    </tr>\n",
       "    <tr>\n",
       "      <th>5</th>\n",
       "      <td>1</td>\n",
       "      <td>1.0</td>\n",
       "      <td>1.0</td>\n",
       "    </tr>\n",
       "    <tr>\n",
       "      <th>7</th>\n",
       "      <td>1</td>\n",
       "      <td>&lt;built-in function zeros&gt;</td>\n",
       "      <td>&lt;built-in function zeros&gt;</td>\n",
       "    </tr>\n",
       "  </tbody>\n",
       "</table>\n",
       "</div>"
      ],
      "text/plain": [
       "          Name                        Age                        moy\n",
       "0  Hassen Amri                       23.0                        0.0\n",
       "1            1                        1.0                        1.0\n",
       "2            1                        1.0                        1.0\n",
       "3            1                        1.0                        1.0\n",
       "4            1                        1.0                        1.0\n",
       "5            1                        1.0                        1.0\n",
       "7            1  <built-in function zeros>  <built-in function zeros>"
      ]
     },
     "execution_count": 47,
     "metadata": {},
     "output_type": "execute_result"
    }
   ],
   "source": [
    "df = df[df.moy != '0']\n",
    "df"
   ]
  },
  {
   "cell_type": "code",
   "execution_count": null,
   "id": "044f8ab8",
   "metadata": {},
   "outputs": [],
   "source": []
  }
 ],
 "metadata": {
  "kernelspec": {
   "display_name": "Python 3 (ipykernel)",
   "language": "python",
   "name": "python3"
  },
  "language_info": {
   "codemirror_mode": {
    "name": "ipython",
    "version": 3
   },
   "file_extension": ".py",
   "mimetype": "text/x-python",
   "name": "python",
   "nbconvert_exporter": "python",
   "pygments_lexer": "ipython3",
   "version": "3.8.11"
  }
 },
 "nbformat": 4,
 "nbformat_minor": 5
}
